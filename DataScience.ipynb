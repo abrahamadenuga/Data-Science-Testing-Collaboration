{
 "cells": [
  {
   "cell_type": "code",
   "execution_count": 1,
   "id": "c00a4ac8-73c0-40d7-909b-ef6382f51965",
   "metadata": {},
   "outputs": [
    {
     "name": "stdout",
     "output_type": "stream",
     "text": [
      "Abraham\n",
      "King\n",
      "Tioluwani\n",
      "Praise\n",
      "Olalanrewaju\n"
     ]
    }
   ],
   "source": [
    "name_tuple = ('Abraham','King','Tioluwani','Praise','Olalanrewaju')\n",
    "for i in name_tuple:\n",
    "    print(i)"
   ]
  },
  {
   "cell_type": "code",
   "execution_count": null,
   "id": "0843447c-cd34-4dd6-8e8d-5ff939305f6c",
   "metadata": {},
   "outputs": [],
   "source": []
  }
 ],
 "metadata": {
  "kernelspec": {
   "display_name": "Python [conda env:base] *",
   "language": "python",
   "name": "conda-base-py"
  },
  "language_info": {
   "codemirror_mode": {
    "name": "ipython",
    "version": 3
   },
   "file_extension": ".py",
   "mimetype": "text/x-python",
   "name": "python",
   "nbconvert_exporter": "python",
   "pygments_lexer": "ipython3",
   "version": "3.13.5"
  }
 },
 "nbformat": 4,
 "nbformat_minor": 5
}
